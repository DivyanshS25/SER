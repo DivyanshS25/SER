{
 "cells": [
  {
   "cell_type": "code",
   "execution_count": 75,
   "id": "8f6d50cd-8a35-41ef-ad97-7e14f380ee97",
   "metadata": {},
   "outputs": [],
   "source": [
    "import pandas as pd\n",
    "import numpy as np\n",
    "import matplotlib.pyplot as plt "
   ]
  },
  {
   "cell_type": "code",
   "execution_count": 4,
   "id": "5355c6aa-3dfa-4969-939a-7d0f311dd02c",
   "metadata": {},
   "outputs": [],
   "source": [
    "import os"
   ]
  },
  {
   "cell_type": "code",
   "execution_count": null,
   "id": "d0bebaa0-4f0b-4ac7-a116-a6b4c69b97f3",
   "metadata": {},
   "outputs": [],
   "source": [
    "audio_files=[]\n",
    "for i in range (1,10):\n",
    "    \n",
    "    folder_path = f\"Audio_Speech_Actors_01-24\\Actor_0{i}\"\n",
    "    files = [f for f in os.listdir(folder_path) if f.endswith(\".wav\")]\n",
    "    audio_files.extend(files)\n",
    "for i in range (10,25):\n",
    "    \n",
    "    folder_path = f\"Audio_Speech_Actors_01-24\\Actor_{i}\"\n",
    "    files = [f for f in os.listdir(folder_path) if f.endswith(\".wav\")]\n",
    "    audio_files.extend(files)\n"
   ]
  },
  {
   "cell_type": "code",
   "execution_count": null,
   "id": "d00d9225-1ee7-4c4a-9638-4799c10b0e09",
   "metadata": {},
   "outputs": [],
   "source": [
    "for i in range (1,10):\n",
    "    \n",
    "    folder_path = f\"Audio_Song_Actors_01-24\\Actor_0{i}\"\n",
    "    files = [f for f in os.listdir(folder_path) if f.endswith(\".wav\")]\n",
    "    audio_files.extend(files)\n",
    "for i in range (10,25):\n",
    "    \n",
    "    folder_path = f\"Audio_Song_Actors_01-24\\Actor_{i}\"\n",
    "    files = [f for f in os.listdir(folder_path) if f.endswith(\".wav\")]\n",
    "    audio_files.extend(files)"
   ]
  },
  {
   "cell_type": "code",
   "execution_count": 192,
   "id": "d117f0f5-7fbd-4767-90b4-0281268af4f7",
   "metadata": {},
   "outputs": [
    {
     "data": {
      "text/plain": [
       "2452"
      ]
     },
     "execution_count": 192,
     "metadata": {},
     "output_type": "execute_result"
    }
   ],
   "source": [
    "len(audio_files)"
   ]
  },
  {
   "cell_type": "code",
   "execution_count": 196,
   "id": "3e4973bc-7d29-4150-beaf-e2dfdf9b36bb",
   "metadata": {},
   "outputs": [],
   "source": [
    "import os\n",
    "import numpy as np\n",
    "import librosa\n",
    "\n",
    "x = []\n",
    "y_labels = []\n",
    "audio = []\n",
    "\n",
    "def summarize(feature):\n",
    "    return np.hstack((np.mean(feature, axis=1), np.std(feature, axis=1)))\n",
    "\n",
    "def extract_all_features(y, sr):\n",
    "    mfcc     = librosa.feature.mfcc(y=y, sr=sr, n_mfcc=40)\n",
    "    chroma   = librosa.feature.chroma_stft(y=y, sr=sr)\n",
    "    mel      = librosa.feature.melspectrogram(y=y, sr=sr)\n",
    "    contrast = librosa.feature.spectral_contrast(y=y, sr=sr)\n",
    "    tonnetz  = librosa.feature.tonnetz(y=librosa.effects.harmonic(y), sr=sr)\n",
    "    delta    = librosa.feature.delta(mfcc)\n",
    "    delta2   = librosa.feature.delta(mfcc, order=2)\n",
    "    centroid = librosa.feature.spectral_centroid(y=y, sr=sr)\n",
    "    bandwidth= librosa.feature.spectral_bandwidth(y=y, sr=sr)\n",
    "    rolloff  = librosa.feature.spectral_rolloff(y=y, sr=sr)\n",
    "    zcr      = librosa.feature.zero_crossing_rate(y)\n",
    "    rms      = librosa.feature.rms(y=y)\n",
    "\n",
    "    return np.concatenate([\n",
    "        summarize(mfcc), summarize(chroma), summarize(mel),\n",
    "        summarize(contrast), summarize(tonnetz), summarize(delta),\n",
    "        summarize(delta2), summarize(centroid), summarize(bandwidth),\n",
    "        summarize(rolloff), summarize(zcr), summarize(rms)\n",
    "    ])\n",
    "\n"
   ]
  },
  {
   "cell_type": "code",
   "execution_count": 197,
   "id": "8f212177-5ad6-443e-b012-ab1c82fb9d32",
   "metadata": {},
   "outputs": [],
   "source": [
    "for i in range(1, 10):\n",
    "    folder_path = f\"Audio_Speech_Actors_01-24\\\\Actor_0{i}\"\n",
    "    files = [f for f in os.listdir(folder_path) if f.endswith(\".wav\")]\n",
    "    for filename in files:\n",
    "        file_path = os.path.join(folder_path, filename)\n",
    "\n",
    "        try:\n",
    "            y_orig, sr = librosa.load(file_path, sr=22050)\n",
    "            features = extract_all_features(y_orig, sr)\n",
    "            x.append(features)\n",
    "            y_labels.append(filename.split('-')[2])  \n",
    "            audio.append(file_path)\n",
    "\n",
    "        except Exception as e:\n",
    "            print(f\"Error processing {file_path}: {e}\")"
   ]
  },
  {
   "cell_type": "code",
   "execution_count": 198,
   "id": "37d93daf-b16d-4a1b-9a2b-d2a8785ff4b6",
   "metadata": {},
   "outputs": [
    {
     "name": "stderr",
     "output_type": "stream",
     "text": [
      "C:\\Users\\hp\\AppData\\Local\\Programs\\Python\\Python312\\Lib\\site-packages\\librosa\\core\\spectrum.py:266: UserWarning: n_fft=1024 is too large for input signal of length=1012\n",
      "  warnings.warn(\n"
     ]
    }
   ],
   "source": [
    "for i in range(10, 25):\n",
    "    folder_path = f\"Audio_Speech_Actors_01-24\\\\Actor_{i}\"\n",
    "    files = [f for f in os.listdir(folder_path) if f.endswith(\".wav\")]\n",
    "    for filename in files:\n",
    "        file_path = os.path.join(folder_path, filename)\n",
    "\n",
    "        try:\n",
    "            y_orig, sr = librosa.load(file_path, sr=22050)\n",
    "            features = extract_all_features(y_orig, sr)\n",
    "            x.append(features)\n",
    "            y_labels.append(filename.split('-')[2])  \n",
    "            audio.append(file_path)\n",
    "\n",
    "        except Exception as e:\n",
    "            print(f\"Error processing {file_path}: {e}\")"
   ]
  },
  {
   "cell_type": "code",
   "execution_count": 199,
   "id": "08bbfe5b-ba34-4e81-9b0f-0b7ca6d70b61",
   "metadata": {},
   "outputs": [],
   "source": [
    "for i in range(1, 10):\n",
    "    folder_path = f\"Audio_Song_Actors_01-24\\\\Actor_0{i}\"\n",
    "    files = [f for f in os.listdir(folder_path) if f.endswith(\".wav\")]\n",
    "    for filename in files:\n",
    "        file_path = os.path.join(folder_path, filename)\n",
    "\n",
    "        try:\n",
    "            y_orig, sr = librosa.load(file_path, sr=22050)\n",
    "            features = extract_all_features(y_orig, sr)\n",
    "            x.append(features)\n",
    "            y_labels.append(filename.split('-')[2])  \n",
    "            audio.append(file_path)\n",
    "\n",
    "        except Exception as e:\n",
    "            print(f\"Error processing {file_path}: {e}\")"
   ]
  },
  {
   "cell_type": "code",
   "execution_count": 200,
   "id": "af4012b0-abe6-4c1a-8f8b-a233abe8f115",
   "metadata": {},
   "outputs": [],
   "source": [
    "for i in range(10, 25):\n",
    "    folder_path = f\"Audio_Song_Actors_01-24\\\\Actor_{i}\"\n",
    "    files = [f for f in os.listdir(folder_path) if f.endswith(\".wav\")]\n",
    "    for filename in files:\n",
    "        file_path = os.path.join(folder_path, filename)\n",
    "\n",
    "        try:\n",
    "            y_orig, sr = librosa.load(file_path, sr=22050)\n",
    "            features = extract_all_features(y_orig, sr)\n",
    "            x.append(features)\n",
    "            y_labels.append(filename.split('-')[2])  \n",
    "            audio.append(file_path)\n",
    "\n",
    "        except Exception as e:\n",
    "            print(f\"Error processing {file_path}: {e}\")"
   ]
  },
  {
   "cell_type": "code",
   "execution_count": 201,
   "id": "a353a218-7ef1-4127-a566-7bf60d67b877",
   "metadata": {},
   "outputs": [],
   "source": [
    "df=pd.DataFrame(columns=['file_path','features','labels'])"
   ]
  },
  {
   "cell_type": "code",
   "execution_count": 209,
   "id": "6ad79c00-a049-43f7-8db6-d4bf19957868",
   "metadata": {},
   "outputs": [],
   "source": [
    "df['file_path']=audio\n",
    "df['features']=x\n",
    "df['labels']=y_labels"
   ]
  },
  {
   "cell_type": "code",
   "execution_count": 210,
   "id": "7e4c0c09-105d-43ff-bbfc-6a9f4b4ccc97",
   "metadata": {},
   "outputs": [
    {
     "data": {
      "text/html": [
       "<div>\n",
       "<style scoped>\n",
       "    .dataframe tbody tr th:only-of-type {\n",
       "        vertical-align: middle;\n",
       "    }\n",
       "\n",
       "    .dataframe tbody tr th {\n",
       "        vertical-align: top;\n",
       "    }\n",
       "\n",
       "    .dataframe thead th {\n",
       "        text-align: right;\n",
       "    }\n",
       "</style>\n",
       "<table border=\"1\" class=\"dataframe\">\n",
       "  <thead>\n",
       "    <tr style=\"text-align: right;\">\n",
       "      <th></th>\n",
       "      <th>file_path</th>\n",
       "      <th>features</th>\n",
       "      <th>labels</th>\n",
       "    </tr>\n",
       "  </thead>\n",
       "  <tbody>\n",
       "    <tr>\n",
       "      <th>0</th>\n",
       "      <td>Audio_Speech_Actors_01-24\\Actor_01\\03-01-01-01...</td>\n",
       "      <td>[-697.7926025390625, 54.89004135131836, 0.6634...</td>\n",
       "      <td>01</td>\n",
       "    </tr>\n",
       "    <tr>\n",
       "      <th>1</th>\n",
       "      <td>Audio_Speech_Actors_01-24\\Actor_01\\03-01-01-01...</td>\n",
       "      <td>[-692.8557739257812, 55.36389923095703, -1.548...</td>\n",
       "      <td>01</td>\n",
       "    </tr>\n",
       "    <tr>\n",
       "      <th>2</th>\n",
       "      <td>Audio_Speech_Actors_01-24\\Actor_01\\03-01-01-01...</td>\n",
       "      <td>[-691.587890625, 58.024662017822266, 0.1594646...</td>\n",
       "      <td>01</td>\n",
       "    </tr>\n",
       "  </tbody>\n",
       "</table>\n",
       "</div>"
      ],
      "text/plain": [
       "                                           file_path  \\\n",
       "0  Audio_Speech_Actors_01-24\\Actor_01\\03-01-01-01...   \n",
       "1  Audio_Speech_Actors_01-24\\Actor_01\\03-01-01-01...   \n",
       "2  Audio_Speech_Actors_01-24\\Actor_01\\03-01-01-01...   \n",
       "\n",
       "                                            features labels  \n",
       "0  [-697.7926025390625, 54.89004135131836, 0.6634...     01  \n",
       "1  [-692.8557739257812, 55.36389923095703, -1.548...     01  \n",
       "2  [-691.587890625, 58.024662017822266, 0.1594646...     01  "
      ]
     },
     "execution_count": 210,
     "metadata": {},
     "output_type": "execute_result"
    }
   ],
   "source": [
    "df.head(3)"
   ]
  },
  {
   "cell_type": "code",
   "execution_count": 211,
   "id": "22161c85-2afb-4381-979c-49e34a4747ed",
   "metadata": {},
   "outputs": [],
   "source": [
    "df.to_pickle('Original.pkl')"
   ]
  }
 ],
 "metadata": {
  "kernelspec": {
   "display_name": "Python 3 (ipykernel)",
   "language": "python",
   "name": "python3"
  },
  "language_info": {
   "codemirror_mode": {
    "name": "ipython",
    "version": 3
   },
   "file_extension": ".py",
   "mimetype": "text/x-python",
   "name": "python",
   "nbconvert_exporter": "python",
   "pygments_lexer": "ipython3",
   "version": "3.12.4"
  }
 },
 "nbformat": 4,
 "nbformat_minor": 5
}
